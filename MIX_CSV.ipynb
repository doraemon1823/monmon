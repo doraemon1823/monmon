{
 "cells": [
  {
   "cell_type": "code",
   "execution_count": 194,
   "metadata": {},
   "outputs": [],
   "source": [
    "import pandas as pd\n",
    "import numpy as np\n",
    "import matplotlib.pyplot as plt"
   ]
  },
  {
   "cell_type": "code",
   "execution_count": 208,
   "metadata": {},
   "outputs": [],
   "source": [
    "df01=pd.read_csv('changed_'+'001.csv',dtype = 'uint64',header=None)\n",
    "df02=pd.read_csv('changed_'+'002.csv',dtype = 'uint64',header=None)\n",
    "df03=pd.read_csv('changed_'+'003.csv',dtype = 'uint64',header=None)\n",
    "df04=pd.read_csv('changed_'+'004.csv',dtype = 'uint64',header=None)\n",
    "df05=pd.read_csv('changed_'+'005.csv',dtype = 'uint64',header=None)\n",
    "df06=pd.read_csv('changed_'+'006.csv',dtype = 'uint64',header=None)\n",
    "df07=pd.read_csv('changed_'+'007.csv',dtype = 'uint64',header=None)\n",
    "df08=pd.read_csv('changed_'+'008.csv',dtype = 'uint64',header=None)\n",
    "df09=pd.read_csv('changed_'+'009.csv',dtype = 'uint64',header=None)\n",
    "df10=pd.read_csv('changed_'+'010.csv',dtype = 'uint64',header=None)\n",
    "df11=pd.read_csv('changed_'+'011.csv',dtype = 'uint64',header=None)\n",
    "df_mix=pd.concat([df01,df02,df03,df04,df05,df06,df07,df08,df09,df10,df11])\n",
    "df_mix=df_mix[1:]\n",
    "df_mix.shape\n",
    "df_mix=df_mix.drop(0,axis=1)\n",
    "df_mix.to_csv('mix.csv')\n",
    "del df_mix[0]\n",
    "df_mix"
   ]
  },
  {
   "cell_type": "code",
   "execution_count": 200,
   "metadata": {},
   "outputs": [
    {
     "name": "stdout",
     "output_type": "stream",
     "text": [
      "(252, 202)\n",
      "(268, 202)\n",
      "(301, 202)\n",
      "(820, 201)\n"
     ]
    }
   ],
   "source": [
    "print(df01.shape)\n",
    "print(df02.shape)\n",
    "print(df03.shape)\n",
    "print(df_mix.shape)\n",
    "df=df_mix\n",
    "df_mix.to_csv('mix.csv')"
   ]
  },
  {
   "cell_type": "code",
   "execution_count": 201,
   "metadata": {},
   "outputs": [],
   "source": [
    "df1=pd.read_csv('mix.csv',dtype='uint64')"
   ]
  },
  {
   "cell_type": "code",
   "execution_count": 205,
   "metadata": {},
   "outputs": [],
   "source": [
    "df1=df1.drop(\"Unnamed: 0\",axis=1)"
   ]
  },
  {
   "cell_type": "code",
   "execution_count": 207,
   "metadata": {},
   "outputs": [],
   "source": [
    "df1.to_csv(\"mixmix.csv\")"
   ]
  }
 ],
 "metadata": {
  "kernelspec": {
   "display_name": "Python 3",
   "language": "python",
   "name": "python3"
  },
  "language_info": {
   "codemirror_mode": {
    "name": "ipython",
    "version": 3
   },
   "file_extension": ".py",
   "mimetype": "text/x-python",
   "name": "python",
   "nbconvert_exporter": "python",
   "pygments_lexer": "ipython3",
   "version": "3.7.3"
  }
 },
 "nbformat": 4,
 "nbformat_minor": 4
}
