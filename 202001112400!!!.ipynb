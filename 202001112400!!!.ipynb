{
 "cells": [
  {
   "cell_type": "code",
   "execution_count": 46,
   "metadata": {},
   "outputs": [],
   "source": [
    "\"\"\"\n",
    "20200111(日曜)制作\n",
    "これで前処理は大方終了。\n",
    "\n",
    "\"\"\"\n",
    "import pandas as pd\n",
    "import matplotlib.pyplot as plt\n",
    "from gensim.models.doc2vec import Doc2Vec\n",
    "import numpy\n",
    "import MeCab\n",
    "pd.set_option(\"display.max_colwidth\", 180)\n",
    "import re"
   ]
  },
  {
   "cell_type": "code",
   "execution_count": 47,
   "metadata": {},
   "outputs": [],
   "source": [
    "df=pd.read_csv(\"TW.csv\")\n",
    "df=df.drop(\"Unnamed: 0\",axis=1)\n",
    "df=df.rename(columns={'0': 'ID0'})\n",
    "df=df.rename(columns={'1':'Tweet'})\n",
    "df0=pd.DataFrame(df)\n",
    "df0.to_csv(\"wa.csv\")\n",
    "df0=pd.read_csv(\"wa.csv\")\n",
    "df0=df0.rename(columns={'0': 'ID'})\n",
    "df0=df0.rename(columns={'1':'Tweet'})\n",
    "df0=df0.drop(\"Unnamed: 0\",axis=1)\n",
    "df0=df0.drop(\"Tweet\",axis=1)"
   ]
  },
  {
   "cell_type": "code",
   "execution_count": 48,
   "metadata": {},
   "outputs": [
    {
     "data": {
      "text/html": [
       "<div>\n",
       "<style scoped>\n",
       "    .dataframe tbody tr th:only-of-type {\n",
       "        vertical-align: middle;\n",
       "    }\n",
       "\n",
       "    .dataframe tbody tr th {\n",
       "        vertical-align: top;\n",
       "    }\n",
       "\n",
       "    .dataframe thead th {\n",
       "        text-align: right;\n",
       "    }\n",
       "</style>\n",
       "<table border=\"1\" class=\"dataframe\">\n",
       "  <thead>\n",
       "    <tr style=\"text-align: right;\">\n",
       "      <th></th>\n",
       "      <th>ID0</th>\n",
       "      <th>Tweet</th>\n",
       "    </tr>\n",
       "  </thead>\n",
       "  <tbody>\n",
       "    <tr>\n",
       "      <th>0</th>\n",
       "      <td>NaN</td>\n",
       "      <td>_kaori 具体的にどんな責任を追及するのかがさっぱりわからない。そんな曖昧なことで首相のクビは取れないと思うけどなあ。野党の皆さんも支持者から「徹底的に『やるやる』詐欺だ」って突き上げられていませんか？</td>\n",
       "    </tr>\n",
       "    <tr>\n",
       "      <th>1</th>\n",
       "      <td>NaN</td>\n",
       "      <td>クマを殺すなと咆哮する輩、そんなにクマが好きなら、私の居住してる地に春、ヒグマが冬眠から覚めて地先山にいるのでヒグマと会話してくれ、「人間の居住地に来ないでくれ」とクマの生態と生態系のバランスぐらい学習すれ、クマは食事の場所を知ると何度も訪</td>\n",
       "    </tr>\n",
       "    <tr>\n",
       "      <th>2</th>\n",
       "      <td>NaN</td>\n",
       "      <td>昔の賢人は言った。韓国は放っておいても自滅するからいい、中国は漢字発祥の地で手ごわい気を付けろ、一番手ごわいのは、敵陣に入りて仲間を背後から打つ国賊（反日勢力）  さんから</td>\n",
       "    </tr>\n",
       "    <tr>\n",
       "      <th>3</th>\n",
       "      <td>NaN</td>\n",
       "      <td>此奴、石破は総理になる器ではない。仲間内を背後から打つ卑怯者でしかない。【石破氏】石破政権、いつでも担う準備はできている  ネット「肝心の自民党支持者と自民党員と自民党議員の支持が殆ど無い」「どこぞの「ノーベル賞受賞者の像を置くための台座」</td>\n",
       "    </tr>\n",
       "    <tr>\n",
       "      <th>4</th>\n",
       "      <td>NaN</td>\n",
       "      <td>【子供を陥れるＮＨＫ】高校生「クローズアップ現代に出演したら悪人に仕立て上げられ本当に傷ついた。僕には何もできないので、どういうやり方でどう切り取るのかせめて知ってほしい」</td>\n",
       "    </tr>\n",
       "  </tbody>\n",
       "</table>\n",
       "</div>"
      ],
      "text/plain": [
       "   ID0  \\\n",
       "0  NaN   \n",
       "1  NaN   \n",
       "2  NaN   \n",
       "3  NaN   \n",
       "4  NaN   \n",
       "\n",
       "                                                                                                                       Tweet  \n",
       "0                   _kaori 具体的にどんな責任を追及するのかがさっぱりわからない。そんな曖昧なことで首相のクビは取れないと思うけどなあ。野党の皆さんも支持者から「徹底的に『やるやる』詐欺だ」って突き上げられていませんか？   \n",
       "1   クマを殺すなと咆哮する輩、そんなにクマが好きなら、私の居住してる地に春、ヒグマが冬眠から覚めて地先山にいるのでヒグマと会話してくれ、「人間の居住地に来ないでくれ」とクマの生態と生態系のバランスぐらい学習すれ、クマは食事の場所を知ると何度も訪  \n",
       "2                                     昔の賢人は言った。韓国は放っておいても自滅するからいい、中国は漢字発祥の地で手ごわい気を付けろ、一番手ごわいのは、敵陣に入りて仲間を背後から打つ国賊（反日勢力）  さんから  \n",
       "3   此奴、石破は総理になる器ではない。仲間内を背後から打つ卑怯者でしかない。【石破氏】石破政権、いつでも担う準備はできている  ネット「肝心の自民党支持者と自民党員と自民党議員の支持が殆ど無い」「どこぞの「ノーベル賞受賞者の像を置くための台座」  \n",
       "4                                    【子供を陥れるＮＨＫ】高校生「クローズアップ現代に出演したら悪人に仕立て上げられ本当に傷ついた。僕には何もできないので、どういうやり方でどう切り取るのかせめて知ってほしい」   "
      ]
     },
     "execution_count": 48,
     "metadata": {},
     "output_type": "execute_result"
    }
   ],
   "source": [
    "for i in range(10):\n",
    "    i=int(i)\n",
    "    df.loc[i]=df.loc[i].str.replace(\"RT @[A-Za-z0-9]*\",\"\")\n",
    "    #df.loc[i]=df.loc[i].str.replace(\"[A-Za-z0-9\\t.co_+]+@[A-Za-z]+\\.[A-Za-z]\",\"\")\n",
    "    df.loc[i]=df.loc[i].str.replace(\"https://t.co/[A-Za-z0-9]*\",\"\")\n",
    "    df.loc[i]=df.loc[i].str.replace(\"\\n\",\"\")\n",
    "    df.loc[i]=df.loc[i].str.replace(\"…\",\"\")\n",
    "    df.loc[i]=df.loc[i].str.replace(\":\",\"\")\n",
    "    df.loc[i]=df.loc[i].str.replace(\"@[A-Za-z]*\",\"\")\n",
    "df.head()"
   ]
  },
  {
   "cell_type": "code",
   "execution_count": 49,
   "metadata": {},
   "outputs": [],
   "source": [
    "df2=pd.concat([df0,df1],axis=1)"
   ]
  },
  {
   "cell_type": "code",
   "execution_count": 50,
   "metadata": {},
   "outputs": [],
   "source": [
    "df2=df2.drop(\"ID\",axis=1)"
   ]
  },
  {
   "cell_type": "code",
   "execution_count": 51,
   "metadata": {},
   "outputs": [
    {
     "name": "stdout",
     "output_type": "stream",
     "text": [
      "経過時間：108.354905128479\n"
     ]
    }
   ],
   "source": [
    "# 処理前の時刻\n",
    "import time\n",
    "t1 = time.time() \n",
    " \n",
    "# 計測したい処理\n",
    "for i in range(14200):\n",
    "    i=int(i)\n",
    "    df.loc[i]=df.loc[i].str.replace(\"RT @[a-z]*\",\"\").replace(\"[A-Za-z0-9\\t.co_+]+@[A-Za-z]+\\.[A-Za-z]\",\"\").replace(\"http://[a-z]*[0-9]*.*\",\"\")\n",
    "    df.loc[i]=df.loc[i].str.replace(\"\\n\",\"\").replace(\"…\",\"\").replace(\"NaN\",\"\").replace(\":\",\"\")\n",
    " \n",
    "# 処理後の時刻\n",
    "t2 = time.time()\n",
    " \n",
    "# 経過時間を表示\n",
    "elapsed_time = t2-t1\n",
    "print(f\"経過時間：{elapsed_time}\")\n"
   ]
  },
  {
   "cell_type": "code",
   "execution_count": 52,
   "metadata": {},
   "outputs": [],
   "source": [
    "df.to_csv(\"TW_one20200111.csv\")"
   ]
  },
  {
   "cell_type": "code",
   "execution_count": 216,
   "metadata": {},
   "outputs": [
    {
     "data": {
      "text/plain": [
       "' 終戦後、日本で朝鮮総連が声高らかに勧誘していたな、「地上の楽園、北朝鮮に」韓国の内政問題であるから、どうでも良いが、韓国政府統一部ブログ「平壌は韓国の都市が進むべき姿」が物議〜ネットの反応「地上の楽園へGO」「文ちゃんに任せとけば安心だわ'"
      ]
     },
     "execution_count": 216,
     "metadata": {},
     "output_type": "execute_result"
    }
   ],
   "source": [
    "#ベクトル演算前の処理\n",
    "df.at[i,\"Tweet\"]"
   ]
  },
  {
   "cell_type": "code",
   "execution_count": 247,
   "metadata": {},
   "outputs": [
    {
     "data": {
      "text/plain": [
       "': 昔の賢人は言った。韓国は放っておいても自滅するからいい、中国は漢字発祥の地で手ごわい気を付けろ、一番手ごわいのは、敵陣に入りて仲間を背後から打つ国賊（反日勢力） https://t.co/EN1qrU6boU @zakdeskさんから'"
      ]
     },
     "execution_count": 247,
     "metadata": {},
     "output_type": "execute_result"
    }
   ],
   "source": [
    "df.at[2,\"Tweet\"].replace(\"[A-Za-z0-9\\._+]+@[A-Za-z]+\\t.co[A-Za-z]\",\"\")"
   ]
  },
  {
   "cell_type": "code",
   "execution_count": null,
   "metadata": {},
   "outputs": [],
   "source": []
  },
  {
   "cell_type": "code",
   "execution_count": null,
   "metadata": {},
   "outputs": [],
   "source": []
  }
 ],
 "metadata": {
  "kernelspec": {
   "display_name": "Python 3",
   "language": "python",
   "name": "python3"
  },
  "language_info": {
   "codemirror_mode": {
    "name": "ipython",
    "version": 3
   },
   "file_extension": ".py",
   "mimetype": "text/x-python",
   "name": "python",
   "nbconvert_exporter": "python",
   "pygments_lexer": "ipython3",
   "version": "3.7.3"
  }
 },
 "nbformat": 4,
 "nbformat_minor": 4
}
