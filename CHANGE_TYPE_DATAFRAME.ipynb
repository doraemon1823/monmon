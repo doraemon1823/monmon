{
 "cells": [
  {
   "cell_type": "code",
   "execution_count": 193,
   "metadata": {},
   "outputs": [],
   "source": [
    "import pandas as pd\n",
    "import numpy as np\n",
    "import re\n",
    "def changed(i):\n",
    "    c=0\n",
    "    i=str(i)\n",
    "    user=\"00\"+i\n",
    "    df=pd.read_csv(user+\".csv\",header=None)\n",
    "    df.index.name = user\n",
    "    df =df.replace(0, np.nan)\n",
    "    df=df.drop(0,axis=1)\n",
    "    df=df.drop(0)\n",
    "    df.isnull().sum()\n",
    "    df=df.dropna(thresh=100, axis=0)\n",
    "    df=df.replace(np.nan,int(0))\n",
    "    df=df.astype(int)\n",
    "    df.to_csv('changed_'+user+'.csv')"
   ]
  },
  {
   "cell_type": "code",
   "execution_count": 188,
   "metadata": {},
   "outputs": [],
   "source": [
    "for i in range(8):\n",
    "    i+=1\n",
    "    changed(i)"
   ]
  },
  {
   "cell_type": "code",
   "execution_count": 194,
   "metadata": {},
   "outputs": [],
   "source": [
    "changed(9)"
   ]
  },
  {
   "cell_type": "code",
   "execution_count": null,
   "metadata": {},
   "outputs": [],
   "source": []
  }
 ],
 "metadata": {
  "kernelspec": {
   "display_name": "Python 3",
   "language": "python",
   "name": "python3"
  },
  "language_info": {
   "codemirror_mode": {
    "name": "ipython",
    "version": 3
   },
   "file_extension": ".py",
   "mimetype": "text/x-python",
   "name": "python",
   "nbconvert_exporter": "python",
   "pygments_lexer": "ipython3",
   "version": "3.7.3"
  }
 },
 "nbformat": 4,
 "nbformat_minor": 4
}
